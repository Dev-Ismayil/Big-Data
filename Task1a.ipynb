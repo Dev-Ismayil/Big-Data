{
 "cells": [
  {
   "cell_type": "code",
   "execution_count": null,
   "id": "4adc9b24",
   "metadata": {},
   "outputs": [
    {
     "name": "stdout",
     "output_type": "stream",
     "text": [
      "1000\n",
      "<class 'str'>\n"
     ]
    }
   ],
   "source": [
    "#Task 1\n",
    "number = 1000\n",
    "string_number = str(number)\n",
    "print(string_number)\n",
    "print(type(string_number))"
   ]
  },
  {
   "cell_type": "code",
   "execution_count": 2,
   "id": "cdbccf20",
   "metadata": {},
   "outputs": [
    {
     "name": "stdout",
     "output_type": "stream",
     "text": [
      "19\n"
     ]
    }
   ],
   "source": [
    "#Task 2\n",
    "value = 19.99\n",
    "value_int = int(value)\n",
    "print(value_int)"
   ]
  },
  {
   "cell_type": "code",
   "execution_count": 3,
   "id": "66822626",
   "metadata": {},
   "outputs": [
    {
     "name": "stdout",
     "output_type": "stream",
     "text": [
      "250.0\n"
     ]
    }
   ],
   "source": [
    "#Task 2\n",
    "string_number = \"500\"\n",
    "numeric_number = int(string_number)\n",
    "print(numeric_number / 2)"
   ]
  },
  {
   "cell_type": "code",
   "execution_count": 4,
   "id": "4a671e85",
   "metadata": {},
   "outputs": [
    {
     "name": "stdout",
     "output_type": "stream",
     "text": [
      "True\n",
      "False\n"
     ]
    }
   ],
   "source": [
    "#Task 4\n",
    "a = 8\n",
    "b = 12\n",
    "print(a < b)   \n",
    "print(a == b)  "
   ]
  },
  {
   "cell_type": "code",
   "execution_count": 5,
   "id": "502ff7d2",
   "metadata": {},
   "outputs": [
    {
     "name": "stdout",
     "output_type": "stream",
     "text": [
      "True\n"
     ]
    }
   ],
   "source": [
    "#Task 5\n",
    "x = 5\n",
    "y = 10\n",
    "z = 15\n",
    "print((x < y) and (y < z))"
   ]
  },
  {
   "cell_type": "code",
   "execution_count": 6,
   "id": "f23c828a",
   "metadata": {},
   "outputs": [
    {
     "name": "stdout",
     "output_type": "stream",
     "text": [
      "6\n",
      "1\n",
      "6.25\n"
     ]
    }
   ],
   "source": [
    "#Task 6\n",
    "print(25 // 4)  \n",
    "print(25 % 4)   \n",
    "print(25 / 4)"
   ]
  },
  {
   "cell_type": "code",
   "execution_count": 7,
   "id": "91711fcc",
   "metadata": {},
   "outputs": [
    {
     "name": "stdout",
     "output_type": "stream",
     "text": [
      "81\n"
     ]
    }
   ],
   "source": [
    "#Task 7\n",
    "print(3**4)"
   ]
  },
  {
   "cell_type": "code",
   "execution_count": null,
   "id": "43983264",
   "metadata": {},
   "outputs": [
    {
     "name": "stdout",
     "output_type": "stream",
     "text": [
      "<class 'int'>\n"
     ]
    }
   ],
   "source": [
    "#Task 8\n",
    "price = 75.5\n",
    "int_price = int(price)\n",
    "print(int_price)\n",
    "print(type(int_price))"
   ]
  },
  {
   "cell_type": "code",
   "execution_count": 9,
   "id": "97ec923b",
   "metadata": {},
   "outputs": [
    {
     "name": "stdout",
     "output_type": "stream",
     "text": [
      "True\n",
      "True\n"
     ]
    }
   ],
   "source": [
    "#Task 9\n",
    "n = 20\n",
    "print((n > 10) or (n < 5))    \n",
    "print((n > 15) and (n < 25)) "
   ]
  },
  {
   "cell_type": "code",
   "execution_count": 10,
   "id": "e6dbdca2",
   "metadata": {},
   "outputs": [
    {
     "name": "stdout",
     "output_type": "stream",
     "text": [
      "42.8\n",
      "<class 'float'>\n",
      "42\n",
      "<class 'int'>\n"
     ]
    }
   ],
   "source": [
    "#Task 10\n",
    "value = \"42.8\"\n",
    "value_float = float(value)\n",
    "print(value_float)\n",
    "print(type(value_float))  \n",
    "\n",
    "value_int = int(value_float)\n",
    "print(value_int)\n",
    "print(type(value_int))"
   ]
  }
 ],
 "metadata": {
  "kernelspec": {
   "display_name": "Python 3",
   "language": "python",
   "name": "python3"
  },
  "language_info": {
   "codemirror_mode": {
    "name": "ipython",
    "version": 3
   },
   "file_extension": ".py",
   "mimetype": "text/x-python",
   "name": "python",
   "nbconvert_exporter": "python",
   "pygments_lexer": "ipython3",
   "version": "3.11.9"
  }
 },
 "nbformat": 4,
 "nbformat_minor": 5
}

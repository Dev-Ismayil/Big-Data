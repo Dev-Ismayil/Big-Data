{
 "cells": [
  {
   "cell_type": "code",
   "execution_count": 1,
   "id": "69cbd87e",
   "metadata": {},
   "outputs": [
    {
     "name": "stdout",
     "output_type": "stream",
     "text": [
      "11\n",
      "P\n"
     ]
    }
   ],
   "source": [
    "#Task 1\n",
    "s = \"Programming\"\n",
    "print(len(s))\n",
    "print(s[0])"
   ]
  },
  {
   "cell_type": "code",
   "execution_count": 5,
   "id": "322c34b1",
   "metadata": {},
   "outputs": [
    {
     "name": "stdout",
     "output_type": "stream",
     "text": [
      "Hello World\n"
     ]
    }
   ],
   "source": [
    "#Task 2\n",
    "s1 = \"Hello\"\n",
    "s2 = \"World\"\n",
    "print(s1 + \" \" + s2)"
   ]
  },
  {
   "cell_type": "code",
   "execution_count": 8,
   "id": "bd1a6433",
   "metadata": {},
   "outputs": [
    {
     "name": "stdout",
     "output_type": "stream",
     "text": [
      "n\n"
     ]
    }
   ],
   "source": [
    "#Task 3\n",
    "text = \"Python\"\n",
    "print(text[-1])"
   ]
  },
  {
   "cell_type": "code",
   "execution_count": 9,
   "id": "3d8b487c",
   "metadata": {},
   "outputs": [
    {
     "name": "stdout",
     "output_type": "stream",
     "text": [
      "ifical\n"
     ]
    }
   ],
   "source": [
    "#Task 4\n",
    "s = \"Artifical\"\n",
    "print(s[3:])"
   ]
  },
  {
   "cell_type": "code",
   "execution_count": 13,
   "id": "fc28c31e",
   "metadata": {},
   "outputs": [
    {
     "name": "stdout",
     "output_type": "stream",
     "text": [
      "edoC\n"
     ]
    }
   ],
   "source": [
    "#Task 5\n",
    "word = \"Code\"\n",
    "print(word[::-1])"
   ]
  },
  {
   "cell_type": "code",
   "execution_count": 18,
   "id": "39518ece",
   "metadata": {},
   "outputs": [
    {
     "name": "stdout",
     "output_type": "stream",
     "text": [
      "bdfh\n"
     ]
    }
   ],
   "source": [
    "#Task 6\n",
    "s = \"abcdefgh\"\n",
    "print(s[1::2])"
   ]
  },
  {
   "cell_type": "code",
   "execution_count": 19,
   "id": "ec70097c",
   "metadata": {},
   "outputs": [
    {
     "name": "stdout",
     "output_type": "stream",
     "text": [
      "DATA\n",
      "data\n"
     ]
    }
   ],
   "source": [
    "#Task 7\n",
    "text = \"data\"\n",
    "print(text.upper())\n",
    "print(text.lower())"
   ]
  },
  {
   "cell_type": "code",
   "execution_count": 20,
   "id": "f3a49c81",
   "metadata": {},
   "outputs": [
    {
     "name": "stdout",
     "output_type": "stream",
     "text": [
      "['Python', 'R', 'Java']\n"
     ]
    }
   ],
   "source": [
    "#Task 8\n",
    "s = \"Python-R-Java\"\n",
    "print(s.split(\"-\"))"
   ]
  },
  {
   "cell_type": "code",
   "execution_count": 21,
   "id": "3e685d86",
   "metadata": {},
   "outputs": [
    {
     "name": "stdout",
     "output_type": "stream",
     "text": [
      "Ayxan 25 yaşındadır\n"
     ]
    }
   ],
   "source": [
    "#Task 9\n",
    "name = \"Ayxan\"\n",
    "age = 25\n",
    "print(f\"{name} {age} yaşındadır\")"
   ]
  },
  {
   "cell_type": "code",
   "execution_count": 23,
   "id": "7151e343",
   "metadata": {},
   "outputs": [
    {
     "name": "stdout",
     "output_type": "stream",
     "text": [
      "Salam Dünya\n"
     ]
    }
   ],
   "source": [
    "#Task 10\n",
    "s = \"Salam-Dünya\"\n",
    "print(s.replace(\"-\", \" \"))"
   ]
  }
 ],
 "metadata": {
  "kernelspec": {
   "display_name": "Python 3",
   "language": "python",
   "name": "python3"
  },
  "language_info": {
   "codemirror_mode": {
    "name": "ipython",
    "version": 3
   },
   "file_extension": ".py",
   "mimetype": "text/x-python",
   "name": "python",
   "nbconvert_exporter": "python",
   "pygments_lexer": "ipython3",
   "version": "3.11.9"
  }
 },
 "nbformat": 4,
 "nbformat_minor": 5
}

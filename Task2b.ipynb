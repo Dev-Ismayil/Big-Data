{
 "cells": [
  {
   "cell_type": "code",
   "execution_count": 16,
   "id": "d324e713",
   "metadata": {},
   "outputs": [],
   "source": [
    "#Task 1\n",
    "import pandas as pd\n",
    "s1 = pd.Series([10, 20, 30, 40])"
   ]
  },
  {
   "cell_type": "code",
   "execution_count": 17,
   "id": "9d2b17c2",
   "metadata": {},
   "outputs": [
    {
     "name": "stdout",
     "output_type": "stream",
     "text": [
      "w    10\n",
      "x    20\n",
      "y    30\n",
      "z    40\n",
      "dtype: int64\n"
     ]
    }
   ],
   "source": [
    "import pandas as pd\n",
    "s1.index = ['w', 'x', 'y', 'z']\n",
    "print(s1)"
   ]
  },
  {
   "cell_type": "code",
   "execution_count": 18,
   "id": "5ac2449d",
   "metadata": {},
   "outputs": [
    {
     "name": "stdout",
     "output_type": "stream",
     "text": [
      "p     5\n",
      "q    10\n",
      "r    15\n",
      "dtype: int64\n"
     ]
    }
   ],
   "source": [
    "#Task 3\n",
    "s2 = pd.Series({'p': 5, 'q': 10, 'r': 15})\n",
    "print(s2)"
   ]
  },
  {
   "cell_type": "code",
   "execution_count": 19,
   "id": "4acd7e0d",
   "metadata": {},
   "outputs": [
    {
     "name": "stdout",
     "output_type": "stream",
     "text": [
      "10\n"
     ]
    }
   ],
   "source": [
    "#Task 4\n",
    "print(s2['q'])"
   ]
  },
  {
   "cell_type": "code",
   "execution_count": 22,
   "id": "3182a735",
   "metadata": {},
   "outputs": [
    {
     "name": "stdout",
     "output_type": "stream",
     "text": [
      "y    30\n",
      "z    40\n",
      "dtype: int64\n"
     ]
    }
   ],
   "source": [
    "#Task 5\n",
    "print(s1[s1 > 25])"
   ]
  },
  {
   "cell_type": "code",
   "execution_count": 21,
   "id": "90d38174",
   "metadata": {},
   "outputs": [
    {
     "name": "stdout",
     "output_type": "stream",
     "text": [
      "y    3.0\n",
      "z    4.0\n",
      "dtype: float64\n"
     ]
    }
   ],
   "source": [
    "#Task 6\n",
    "print(s1[s1>20]/10)"
   ]
  },
  {
   "cell_type": "code",
   "execution_count": 23,
   "id": "a9b0d8ee",
   "metadata": {},
   "outputs": [],
   "source": [
    "#Task 7\n",
    "df1 = pd.DataFrame([[1, 2], [3, 4]])"
   ]
  },
  {
   "cell_type": "code",
   "execution_count": 24,
   "id": "1c494865",
   "metadata": {},
   "outputs": [
    {
     "name": "stdout",
     "output_type": "stream",
     "text": [
      "    c1  c2\n",
      "r1   1   2\n",
      "r2   3   4\n"
     ]
    }
   ],
   "source": [
    "#Task 8\n",
    "df1.index = ['r1', 'r2']\n",
    "df1.columns = ['c1', 'c2']\n",
    "print(df1)"
   ]
  },
  {
   "cell_type": "code",
   "execution_count": 25,
   "id": "f27b042a",
   "metadata": {},
   "outputs": [
    {
     "name": "stdout",
     "output_type": "stream",
     "text": [
      "   A  B\n",
      "0  1  3\n",
      "1  2  4\n"
     ]
    }
   ],
   "source": [
    "#Task 9\n",
    "df2 = pd.DataFrame({'A': [1, 2], 'B': [3, 4]})\n",
    "print(df2)"
   ]
  },
  {
   "cell_type": "code",
   "execution_count": 26,
   "id": "4d4ebd88",
   "metadata": {},
   "outputs": [
    {
     "name": "stdout",
     "output_type": "stream",
     "text": [
      "   A  B\n",
      "1  2  4\n"
     ]
    }
   ],
   "source": [
    "#Task 10\n",
    "print(df2[df2['A'] > 1])"
   ]
  }
 ],
 "metadata": {
  "kernelspec": {
   "display_name": "Python 3",
   "language": "python",
   "name": "python3"
  },
  "language_info": {
   "codemirror_mode": {
    "name": "ipython",
    "version": 3
   },
   "file_extension": ".py",
   "mimetype": "text/x-python",
   "name": "python",
   "nbconvert_exporter": "python",
   "pygments_lexer": "ipython3",
   "version": "3.11.9"
  }
 },
 "nbformat": 4,
 "nbformat_minor": 5
}
